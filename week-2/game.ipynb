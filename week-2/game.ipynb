{
 "cells": [
  {
   "cell_type": "code",
   "execution_count": 36,
   "metadata": {},
   "outputs": [],
   "source": [
    "gameList = [\"G\",\"G\",\"G\",\" \",\"B\",\"B\",\"B\"]"
   ]
  },
  {
   "cell_type": "code",
   "execution_count": 65,
   "metadata": {},
   "outputs": [],
   "source": [
    "def moveGreen(index, stones):\n",
    "    blank = stones.index(\" \") + 1\n",
    "    if blank - 1 == index:\n",
    "        stones[index - 1] = \" \"\n",
    "        stones[blank - 1] = \"G\"\n",
    "    elif blank - 2 == index:\n",
    "        stones[index - 1] = \" \"\n",
    "        stones[blank - 1] = \"G\"\n",
    "    else:\n",
    "        print(\"Invlid Move\")\n",
    "    print(stones)"
   ]
  },
  {
   "cell_type": "code",
   "execution_count": 74,
   "metadata": {},
   "outputs": [],
   "source": [
    "def moveBrown(index, stones):\n",
    "    blank = stones.index(\" \") + 1\n",
    "    if blank + 1 == index:\n",
    "        stones[index - 1] = \" \"\n",
    "        stones[blank - 1] = \"B\"\n",
    "    elif blank + 2 == index:\n",
    "        stones[index - 1] = \" \"\n",
    "        stones[blank - 1] = \"B\"\n",
    "    else:\n",
    "        print(\"Invalid move\")\n",
    "    print(stones)"
   ]
  },
  {
   "cell_type": "code",
   "execution_count": 75,
   "metadata": {},
   "outputs": [],
   "source": [
    "def getColor(index, stones):\n",
    "    frog = stones[index - 1]\n",
    "    if frog == \"G\":\n",
    "        return \"green\"\n",
    "    elif frog == \"B\":\n",
    "        return \"brown\"\n",
    "    else:\n",
    "        return \"blank\""
   ]
  },
  {
   "cell_type": "code",
   "execution_count": 76,
   "metadata": {},
   "outputs": [],
   "source": [
    "def restart():\n",
    "    stones = [\"G\",\"G\",\"G\",\" \",\"B\",\"B\",\"B\"]\n",
    "    return stones"
   ]
  },
  {
   "cell_type": "code",
   "execution_count": 77,
   "metadata": {},
   "outputs": [],
   "source": [
    "def quit():\n",
    "    print(\"You lost :(\")"
   ]
  },
  {
   "cell_type": "code",
   "execution_count": 78,
   "metadata": {},
   "outputs": [],
   "source": [
    "choice = \"s\""
   ]
  },
  {
   "cell_type": "code",
   "execution_count": 79,
   "metadata": {},
   "outputs": [
    {
     "data": {
      "text/plain": [
       "['G', 'G', 'B', 'B', 'B', 'G', ' ']"
      ]
     },
     "execution_count": 79,
     "metadata": {},
     "output_type": "execute_result"
    }
   ],
   "source": [
    "gameList"
   ]
  },
  {
   "cell_type": "code",
   "execution_count": 80,
   "metadata": {},
   "outputs": [
    {
     "name": "stdout",
     "output_type": "stream",
     "text": [
      "Index starts from 1 to 7\n",
      "['G', 'G', 'B', 'B', 'B', 'G', ' ']\n",
      "Index starts from 1 to 7\n",
      "['G', 'G', 'G', ' ', 'B', 'B', 'B']\n",
      "['G', 'G', 'G', 'B', ' ', 'B', 'B']\n",
      "Index starts from 1 to 7\n",
      "['G', 'G', 'G', 'B', ' ', 'B', 'B']\n",
      "['G', 'G', 'G', 'B', 'B', ' ', 'B']\n",
      "Index starts from 1 to 7\n",
      "['G', 'G', 'G', 'B', 'B', ' ', 'B']\n",
      "['G', 'G', 'G', 'B', 'B', 'B', ' ']\n",
      "You are stuck\n"
     ]
    }
   ],
   "source": [
    "while choice != \"q\":\n",
    "    print(\"Index starts from 1 to 7\")\n",
    "    print(gameList)\n",
    "    choice = input(\"Enter the position of frog to move or 'q' to quit or 'r' to restart: \" )\n",
    "    \n",
    "    if choice == \"q\":\n",
    "        quit()\n",
    "        \n",
    "    elif choice == \"r\":\n",
    "        gameList = restart()\n",
    "    \n",
    "    else:\n",
    "        index = int(choice)\n",
    "        c = getColor(index, gameList)\n",
    "        \n",
    "        if c == \"green\":\n",
    "            moveGreen(index, gameList)\n",
    "        elif c == \"brown\":\n",
    "            moveBrown(index, gameList)\n",
    "        else:\n",
    "            print(\"That is an empty space\")\n",
    "            \n",
    "        if gameList == [\"B\", \"B\", \"B\", \" \", \"G\", \"G\", \"G\"]:\n",
    "            print(\"You won!\")\n",
    "            choice = \"q\"\n",
    "            \n",
    "        elif gameList == [\"G\", \"G\", \"G\", \"B\", \"B\", \"B\", \" \"]:\n",
    "            print(\"You are stuck\")\n",
    "            choice = \"q\"\n",
    "    "
   ]
  },
  {
   "cell_type": "code",
   "execution_count": null,
   "metadata": {},
   "outputs": [],
   "source": []
  }
 ],
 "metadata": {
  "kernelspec": {
   "display_name": "base",
   "language": "python",
   "name": "python3"
  },
  "language_info": {
   "codemirror_mode": {
    "name": "ipython",
    "version": 3
   },
   "file_extension": ".py",
   "mimetype": "text/x-python",
   "name": "python",
   "nbconvert_exporter": "python",
   "pygments_lexer": "ipython3",
   "version": "3.11.5"
  }
 },
 "nbformat": 4,
 "nbformat_minor": 2
}
