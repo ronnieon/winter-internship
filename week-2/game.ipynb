{
 "cells": [
  {
   "cell_type": "code",
   "execution_count": 36,
   "metadata": {},
   "outputs": [],
   "source": [
    "gameList = [\"G\",\"G\",\"G\",\" \",\"B\",\"B\",\"B\"]"
   ]
  },
  {
   "cell_type": "code",
   "execution_count": 37,
   "metadata": {},
   "outputs": [],
   "source": [
    "def moveGreen(index, stones):\n",
    "    blank = stones.index(\" \") + 1\n",
    "    if blank - 1 == index:\n",
    "        stones[index - 1] = \" \"\n",
    "        stones[blank - 1] = \"G\"\n",
    "    elif blank - 2 == index:\n",
    "        stones[index - 1] = \" \"\n",
    "        stones[blank - 1] = \"G\"\n",
    "    else:\n",
    "        print(\"Invlid Move\")\n",
    "    print(stones)"
   ]
  },
  {
   "cell_type": "code",
   "execution_count": 38,
   "metadata": {},
   "outputs": [],
   "source": [
    "def moveBrown(index, stones):\n",
    "    blank = stones.index(\" \") + 1\n",
    "    if blank + 1 == index:\n",
    "        stones[index - 1] = \" \"\n",
    "        stones[blank - 1] = \"B\"\n",
    "    elif blank + 2 == index:\n",
    "        stones[index - 1] = \" \"\n",
    "        stones[blank - 1] = \"B\"\n",
    "    else:\n",
    "        print(\"Invalid move\")\n",
    "    print(stones)"
   ]
  },
  {
   "cell_type": "code",
   "execution_count": 39,
   "metadata": {},
   "outputs": [],
   "source": [
    "def getColor(index, stones):\n",
    "    frog = stones[index - 1]\n",
    "    if frog == \"G\":\n",
    "        return \"green\"\n",
    "    elif frog == \"B\":\n",
    "        return \"brown\"\n",
    "    else:\n",
    "        return \"blank\""
   ]
  },
  {
   "cell_type": "code",
   "execution_count": 40,
   "metadata": {},
   "outputs": [],
   "source": [
    "def restart():\n",
    "    stones = [\"G\",\"G\",\"G\",\" \",\"B\",\"B\",\"B\"]\n",
    "    return stones"
   ]
  },
  {
   "cell_type": "code",
   "execution_count": 41,
   "metadata": {},
   "outputs": [],
   "source": [
    "def quit():\n",
    "    print(\"You lost :(\")"
   ]
  },
  {
   "cell_type": "code",
   "execution_count": 42,
   "metadata": {},
   "outputs": [],
   "source": [
    "choice = \"s\""
   ]
  },
  {
   "cell_type": "code",
   "execution_count": 43,
   "metadata": {},
   "outputs": [
    {
     "data": {
      "text/plain": [
       "['G', 'G', 'G', ' ', 'B', 'B', 'B']"
      ]
     },
     "execution_count": 43,
     "metadata": {},
     "output_type": "execute_result"
    }
   ],
   "source": [
    "gameList"
   ]
  },
  {
   "cell_type": "code",
   "execution_count": 44,
   "metadata": {},
   "outputs": [
    {
     "name": "stdout",
     "output_type": "stream",
     "text": [
      "Index starts from 1 to 7\n",
      "['G', 'G', 'G', ' ', 'B', 'B', 'B']\n",
      "['G', ' ', 'G', 'G', 'B', 'B', 'B']\n",
      "Index starts from 1 to 7\n",
      "['G', ' ', 'G', 'G', 'B', 'B', 'B']\n",
      "[' ', 'G', 'G', 'G', 'B', 'B', 'B']\n",
      "Index starts from 1 to 7\n",
      "[' ', 'G', 'G', 'G', 'B', 'B', 'B']\n",
      "Index starts from 1 to 7\n",
      "['G', 'G', 'G', ' ', 'B', 'B', 'B']\n",
      "['G', 'G', ' ', 'G', 'B', 'B', 'B']\n",
      "Index starts from 1 to 7\n",
      "['G', 'G', ' ', 'G', 'B', 'B', 'B']\n",
      "['G', 'G', 'B', 'G', ' ', 'B', 'B']\n",
      "Index starts from 1 to 7\n",
      "['G', 'G', 'B', 'G', ' ', 'B', 'B']\n",
      "['G', 'G', 'B', ' ', 'G', 'B', 'B']\n",
      "Index starts from 1 to 7\n",
      "['G', 'G', 'B', ' ', 'G', 'B', 'B']\n",
      "['G', 'G', 'B', 'B', 'G', ' ', 'B']\n",
      "Index starts from 1 to 7\n",
      "['G', 'G', 'B', 'B', 'G', ' ', 'B']\n",
      "['G', 'G', 'B', 'B', ' ', 'G', 'B']\n",
      "Index starts from 1 to 7\n",
      "['G', 'G', 'B', 'B', ' ', 'G', 'B']\n",
      "['G', 'G', 'B', 'B', 'B', 'G', ' ']\n",
      "Index starts from 1 to 7\n",
      "['G', 'G', 'B', 'B', 'B', 'G', ' ']\n",
      "['G', 'G', 'B', 'B', 'B', ' ', 'G']\n",
      "Index starts from 1 to 7\n",
      "['G', 'G', 'B', 'B', 'B', ' ', 'G']\n",
      "You lost :(\n"
     ]
    }
   ],
   "source": [
    "while choice != \"q\":\n",
    "    print(\"Index starts from 1 to 7\")\n",
    "    print(gameList)\n",
    "    choice = input(\"Enter the position of frog to move or 'q' to quit or 'r' to restart: \" )\n",
    "    \n",
    "    if choice == \"q\":\n",
    "        quit()\n",
    "        \n",
    "    elif choice == \"r\":\n",
    "        gameList = restart()\n",
    "    \n",
    "    else:\n",
    "        index = int(choice)\n",
    "        c = getColor(index, gameList)\n",
    "        \n",
    "        if c == \"green\":\n",
    "            moveGreen(index, gameList)\n",
    "        elif c == \"brown\":\n",
    "            moveBrown(index, gameList)\n",
    "        else:\n",
    "            print(\"That is an empty space\")\n",
    "            \n",
    "        if gameList == [\"B\", \"B\", \"B\", \" \", \"G\", \"G\", \"G\"]:\n",
    "            print(\"You won!\")\n",
    "            choice = \"q\"\n",
    "    "
   ]
  },
  {
   "cell_type": "markdown",
   "metadata": {},
   "source": []
  }
 ],
 "metadata": {
  "kernelspec": {
   "display_name": "base",
   "language": "python",
   "name": "python3"
  },
  "language_info": {
   "codemirror_mode": {
    "name": "ipython",
    "version": 3
   },
   "file_extension": ".py",
   "mimetype": "text/x-python",
   "name": "python",
   "nbconvert_exporter": "python",
   "pygments_lexer": "ipython3",
   "version": "3.11.5"
  }
 },
 "nbformat": 4,
 "nbformat_minor": 2
}
